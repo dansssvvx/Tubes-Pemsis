{
  "nbformat": 4,
  "nbformat_minor": 0,
  "metadata": {
    "colab": {
      "provenance": [],
      "include_colab_link": true
    },
    "kernelspec": {
      "name": "python3",
      "display_name": "Python 3"
    },
    "language_info": {
      "name": "python"
    }
  },
  "cells": [
    {
      "cell_type": "markdown",
      "metadata": {
        "id": "view-in-github",
        "colab_type": "text"
      },
      "source": [
        "<a href=\"https://colab.research.google.com/github/dansssvvx/Tubes-Pemsis/blob/main/PEMSIS_ANOVA.ipynb\" target=\"_parent\"><img src=\"https://colab.research.google.com/assets/colab-badge.svg\" alt=\"Open In Colab\"/></a>"
      ]
    },
    {
      "cell_type": "markdown",
      "source": [
        "# Analisis Pengaruh Jenis Pemanggangan (Roast Type) terhadap Harga Kopi Menggunakan One-Way ANOVA\n",
        "\n",
        "### Anggota Kelompok:\n",
        "#### Ahmad Ramadhani R [F1D02310102]\n",
        "#### Ajeng Sakinah Wulandari [F1D022001]\n",
        "#### Azizah Nurul Indah Amriani [F1D02310004]\n",
        "#### Sucitasari Rahmadani [F1D02310138]\n",
        "#### Zahra Tri Lusiana [F1D022162]\n"
      ],
      "metadata": {
        "id": "XPMuACDq1lT9"
      }
    },
    {
      "cell_type": "markdown",
      "source": [
        "###Asumsi awal (Hipotesis)\n",
        "#### H0 = Tidak terdapat perbedaan antara Jenis Pemanggangan (Roast Type) dengan Harga Kopi\n",
        "\n",
        "#### H1 = Terdapat perbedaan antara Jenis Pemanggangan (Roast Type) dengan Harga Kopi"
      ],
      "metadata": {
        "id": "1nQiOwgZ1UIm"
      }
    },
    {
      "cell_type": "markdown",
      "source": [
        "## Import Library"
      ],
      "metadata": {
        "id": "mJFqvVQ23UE2"
      }
    },
    {
      "cell_type": "code",
      "source": [
        "import pandas as pd\n",
        "import seaborn as sns\n",
        "import matplotlib.pyplot as plt\n",
        "import scipy.stats as stats\n",
        "import statsmodels.api as sm\n",
        "from statsmodels.formula.api import ols\n",
        "from statsmodels.stats.multicomp import pairwise_tukeyhsd"
      ],
      "metadata": {
        "id": "Y8nxdOzJms-j"
      },
      "execution_count": 51,
      "outputs": []
    },
    {
      "cell_type": "markdown",
      "source": [
        "## Load Data"
      ],
      "metadata": {
        "id": "nCH2Sefm3Yg3"
      }
    },
    {
      "cell_type": "code",
      "source": [
        "!git clone https://github.com/dansssvvx/Tubes-Pemsis.git"
      ],
      "metadata": {
        "colab": {
          "base_uri": "https://localhost:8080/"
        },
        "id": "ZBiF5LvyxR5Q",
        "outputId": "13b0b146-a618-45a8-e3e2-5c17f89b7648"
      },
      "execution_count": 52,
      "outputs": [
        {
          "output_type": "stream",
          "name": "stdout",
          "text": [
            "fatal: destination path 'Tubes-Pemsis' already exists and is not an empty directory.\n"
          ]
        }
      ]
    },
    {
      "cell_type": "code",
      "source": [
        "dataset = (\"/content/Tubes-Pemsis/kopi.csv\")"
      ],
      "metadata": {
        "id": "zvoEGZi-xVcu"
      },
      "execution_count": 53,
      "outputs": []
    },
    {
      "cell_type": "code",
      "source": [
        "df = pd.read_csv(dataset)\n",
        "\n",
        "#nama kolom tidak dianggap\n",
        "df.columns = df.columns.str.strip().str.lower().str.replace(' ', '_')"
      ],
      "metadata": {
        "id": "ibevVGm-xdgX"
      },
      "execution_count": 66,
      "outputs": []
    },
    {
      "cell_type": "code",
      "source": [
        "n = df[\"unit_price\"].count()\n",
        "print(n)"
      ],
      "metadata": {
        "colab": {
          "base_uri": "https://localhost:8080/"
        },
        "id": "uG9IM8wnxeRD",
        "outputId": "bea84b57-61ed-486e-8aba-46464d38b70e"
      },
      "execution_count": 55,
      "outputs": [
        {
          "output_type": "stream",
          "name": "stdout",
          "text": [
            "48\n"
          ]
        }
      ]
    },
    {
      "cell_type": "markdown",
      "source": [
        "karena banyak data (n) adalah 45, maka metode yang digunakan untuk uji normalitas data adalah shapiro-wilk"
      ],
      "metadata": {
        "id": "NcnoUIfk32mn"
      }
    },
    {
      "cell_type": "code",
      "source": [
        "print(\"Statistik Deskriptif:\")\n",
        "print(df.groupby('roast_type')['unit_price'].describe())"
      ],
      "metadata": {
        "colab": {
          "base_uri": "https://localhost:8080/"
        },
        "id": "sFWqdOm-yBJE",
        "outputId": "83e6d684-1ca0-4ca2-d6cd-4e7e6eff844c"
      },
      "execution_count": 56,
      "outputs": [
        {
          "output_type": "stream",
          "name": "stdout",
          "text": [
            "Statistik Deskriptif:\n",
            "            count      mean        std    min      25%    50%       75%  \\\n",
            "roast_type                                                                \n",
            "D            16.0  11.55000   8.936883  2.685  4.99875   8.36  14.85875   \n",
            "L            16.0  14.59500  11.147916  3.585  6.56625  10.73  18.75875   \n",
            "M            16.0  12.99375  10.066656  2.985  5.56875   9.34  16.63375   \n",
            "\n",
            "               max  \n",
            "roast_type          \n",
            "D           29.785  \n",
            "L           36.455  \n",
            "M           33.465  \n"
          ]
        }
      ]
    },
    {
      "cell_type": "markdown",
      "source": [
        "## Uji Normalitas"
      ],
      "metadata": {
        "id": "vCvriiJS3_el"
      }
    },
    {
      "cell_type": "code",
      "source": [
        "print(\"Uji Normalitas kelompok data:\")\n",
        "for level in df['roast_type'].unique():\n",
        "    data = df[df['roast_type'] == level]['unit_price']\n",
        "    stat, p = stats.shapiro(data)\n",
        "    print(f\"{level}: p-value = {p:.4f} {'(Normal)' if p > 0.05 else '(Tidak Normal)'}\")"
      ],
      "metadata": {
        "colab": {
          "base_uri": "https://localhost:8080/"
        },
        "id": "6LwZcvXfyYug",
        "outputId": "cadc4f98-ee57-4443-9f85-c00cd3420eb0"
      },
      "execution_count": 57,
      "outputs": [
        {
          "output_type": "stream",
          "name": "stdout",
          "text": [
            "Uji Normalitas kelompok data:\n",
            "L: p-value = 0.0105 (Tidak Normal)\n",
            "M: p-value = 0.0132 (Tidak Normal)\n",
            "D: p-value = 0.0134 (Tidak Normal)\n"
          ]
        }
      ]
    },
    {
      "cell_type": "markdown",
      "source": [
        "Karena seluruh kelompok data tidak normal, maka digunakan metode levene untuk uji homogenitas"
      ],
      "metadata": {
        "id": "OPqkH9T64kJr"
      }
    },
    {
      "cell_type": "markdown",
      "source": [
        "## Uji Homogenitas"
      ],
      "metadata": {
        "id": "4k2aqK5C4ELo"
      }
    },
    {
      "cell_type": "code",
      "source": [
        "groups = [df[df['roast_type'] == level]['unit_price']\n",
        "          for level in df['roast_type'].unique()]\n",
        "levene_stat, levene_p = stats.levene(*groups)\n",
        "print(f\"\\nUji Homogenitas Varians (Levene): p-value = {levene_p:.4f} {'(Homogen)' if levene_p > 0.05 else '(Tidak Homogen)'}\")"
      ],
      "metadata": {
        "colab": {
          "base_uri": "https://localhost:8080/"
        },
        "id": "FTMv5tEjzgFI",
        "outputId": "65d7121e-b688-4359-824a-fe342d634124"
      },
      "execution_count": 58,
      "outputs": [
        {
          "output_type": "stream",
          "name": "stdout",
          "text": [
            "\n",
            "Uji Homogenitas Varians (Levene): p-value = 0.8052 (Homogen)\n"
          ]
        }
      ]
    },
    {
      "cell_type": "markdown",
      "source": [
        "Karena nilai p-value > 0.05(data homogen), maka uji ANOVA dapat dilakukan untuk dataset"
      ],
      "metadata": {
        "id": "HOHZnnRD4dzm"
      }
    },
    {
      "cell_type": "markdown",
      "source": [
        "## Uji Anova"
      ],
      "metadata": {
        "id": "WbSVdmoO4INE"
      }
    },
    {
      "cell_type": "code",
      "source": [
        "model = ols('unit_price ~ C(roast_type)', data=df).fit()\n",
        "anova_table = sm.stats.anova_lm(model, typ=2)\n",
        "print(\"\\nHasil ANOVA:\")\n",
        "print(anova_table)"
      ],
      "metadata": {
        "colab": {
          "base_uri": "https://localhost:8080/"
        },
        "id": "Y_BL9Wg5zuKk",
        "outputId": "b0583233-3f09-446e-8980-953b06b56ecd"
      },
      "execution_count": 59,
      "outputs": [
        {
          "output_type": "stream",
          "name": "stdout",
          "text": [
            "\n",
            "Hasil ANOVA:\n",
            "                    sum_sq    df         F    PR(>F)\n",
            "C(roast_type)    74.242350   2.0  0.364551  0.696541\n",
            "Residual       4582.222375  45.0       NaN       NaN\n"
          ]
        }
      ]
    },
    {
      "cell_type": "code",
      "source": [
        "plt.figure(figsize=(10, 6))\n",
        "sns.boxplot(x='roast_type', y='unit_price', hue='roast_type', data=df, palette='Set2')\n",
        "plt.xticks(rotation=45)\n",
        "plt.title('Distribusi Harga Kopi berdasarkan Jenis Pemanggangan(Roast Type)')\n",
        "plt.xlabel('Roast Type')\n",
        "plt.ylabel('Harga Kopi')\n",
        "plt.tight_layout()\n",
        "plt.show()"
      ],
      "metadata": {
        "colab": {
          "base_uri": "https://localhost:8080/",
          "height": 607
        },
        "id": "KxUniQ07z1h6",
        "outputId": "c93f3e30-46cc-473b-bd5f-1fe219abba60"
      },
      "execution_count": 60,
      "outputs": [
        {
          "output_type": "display_data",
          "data": {
            "text/plain": [
              "<Figure size 1000x600 with 1 Axes>"
            ],
            "image/png": "[encoded data removed]"
          },
          "metadata": {}
        }
      ]
    },
    {
      "cell_type": "code",
      "source": [
        "p_val_anova = anova_table['PR(>F)'].iloc[0]\n",
        "if p_val_anova < 0.05:\n",
        "    print(f\"\\nKesimpulan: Terdapat perbedaan signifikan terhadap harga kopi berdasarkan jenis pemanggangan (roast type) (p = {p_val_anova:.6f})\")\n",
        "else:\n",
        "    print(f\"\\nKesimpulan: Tidak ada perbedaan signifikan terhadap harga kopi berdasarkan jenis pemanggangan (roast type) (p = {p_val_anova:.6f})\")"
      ],
      "metadata": {
        "colab": {
          "base_uri": "https://localhost:8080/"
        },
        "id": "Tg0VkqFl0Tgi",
        "outputId": "4863b042-5d32-4087-e897-368157e36ade"
      },
      "execution_count": 61,
      "outputs": [
        {
          "output_type": "stream",
          "name": "stdout",
          "text": [
            "\n",
            "Kesimpulan: Tidak ada perbedaan signifikan terhadap harga kopi berdasarkan jenis pemanggangan (roast type) (p = 0.696541)\n"
          ]
        }
      ]
    },
    {
      "cell_type": "markdown",
      "source": [
        "Tidak terdapat perbedaan yang signifikan antara Jenis Pemanggangan dengan harga kopi yang dihitung dari beberapa kelompok\n",
        "\n",
        "Maka hipotesis yang diterima = H0"
      ],
      "metadata": {
        "id": "KpKOrGBN4Nea"
      }
    },
    {
      "cell_type": "code",
      "source": [
        "# df = pd.read_excel(\"kopi.xlsx\")\n",
        "\n",
        "# # Tampilkan struktur kolom dan 5 baris pertama\n",
        "# print(df.info())\n",
        "# # 1. Filter hanya kolom yang dibutuhkan\n",
        "# df_anova = df[['Roast Type', 'Price per 100g']].copy()\n",
        "\n",
        "# # 2. Hapus baris yang memiliki nilai kosong (jika ada)\n",
        "# df_anova = df_anova.dropna()\n",
        "\n",
        "# # 3. Lihat nilai unik Roast Type\n",
        "# print(\"Kategori Roast Type:\", df_anova['Roast Type'].unique())\n",
        "\n",
        "# # 4. Lihat ringkasan data\n",
        "# print(df_anova.describe())\n",
        "# print(df.head())"
      ],
      "metadata": {
        "id": "e0NfcI7pyF-6"
      },
      "execution_count": 62,
      "outputs": []
    },
    {
      "cell_type": "code",
      "source": [
        "# # 1. Filter hanya kolom yang dibutuhkan\n",
        "# df_anova = df[['Roast Type', 'Price per 100g']].copy()\n",
        "\n",
        "# # 2. Hapus baris yang memiliki nilai kosong (jika ada)\n",
        "# df_anova = df_anova.dropna()\n",
        "\n",
        "# # 3. Lihat nilai unik Roast Type\n",
        "# print(\"Kategori Roast Type:\", df_anova['Roast Type'].unique())\n",
        "\n",
        "# # 4. Lihat ringkasan data\n",
        "# print(df_anova.describe())\n",
        "\n",
        "# # 1. Salin data dan hitung z-score untuk kolom Price per 100g\n",
        "# df_anova['zscore'] = zscore(df_anova['Price per 100g'])\n",
        "\n",
        "# # 2. Uji Kolmogorov-Smirnov per kelompok roast\n",
        "# for group in df_anova['Roast Type'].unique():\n",
        "#     z_group = df_anova[df_anova['Roast Type'] == group]['zscore']\n",
        "#     stat, p = kstest(z_group, 'norm')\n",
        "#     print(f\"K-S Test untuk {group}: p-value = {p:.5f} {'✅ Normal' if p > 0.05 else '❌ Tidak normal'}\")\n"
      ],
      "metadata": {
        "id": "Yu4zT0LZNSVh"
      },
      "execution_count": 63,
      "outputs": []
    },
    {
      "cell_type": "code",
      "source": [
        "# # Ambil data per kelompok\n",
        "# groups = [df_anova[df_anova['Roast Type'] == group]['Price per 100g'] for group in df_anova['Roast Type'].unique()]\n",
        "\n",
        "# # Uji homogenitas variansi (Levene's test)\n",
        "# levene_stat, levene_p = levene(*groups)\n",
        "# print(f\"Levene’s Test: p-value = {levene_p:.5f} {'✅ Homogen' if levene_p > 0.05 else '❌ Tidak homogen'}\")"
      ],
      "metadata": {
        "id": "HULBFkVANfsw"
      },
      "execution_count": 64,
      "outputs": []
    },
    {
      "cell_type": "code",
      "source": [
        "# # Bangun model OLS (Ordinary Least Squares)\n",
        "# model = ols('Q(\"Price per 100g\") ~ C(Q(\"Roast Type\"))', data=df_anova).fit()\n",
        "\n",
        "# # Hitung ANOVA\n",
        "# anova_table = sm.stats.anova_lm(model, typ=2)\n",
        "\n",
        "# # Tampilkan hasil\n",
        "# print(\"📊 Tabel ANOVA:\")\n",
        "# print(anova_table)"
      ],
      "metadata": {
        "id": "GSwzk8E3Njn4"
      },
      "execution_count": 65,
      "outputs": []
    },
    {
      "cell_type": "markdown",
      "source": [
        "#BATASAN"
      ],
      "metadata": {
        "id": "921Ak5t3NmQU"
      }
    },
    {
      "cell_type": "code",
      "source": [
        "# df.rename(columns={'Roast Type': 'roast_type', 'Price per 100g': 'price_per_100g'}, inplace=True)\n",
        "\n",
        "# # Ambil hanya kolom yang relevan dan buang data yang kosong\n",
        "# df = df[['roast_type', 'price_per_100g']].dropna()\n",
        "# df['price_per_100g'] = pd.to_numeric(df['price_per_100g'], errors='coerce')\n",
        "# df.dropna(subset=['price_per_100g'], inplace=True)"
      ],
      "metadata": {
        "id": "dyJRi1vt1jE6"
      },
      "execution_count": 38,
      "outputs": []
    },
    {
      "cell_type": "code",
      "source": [
        "# ks_results = {}\n",
        "# for tipe in df['roast_type'].unique():\n",
        "#     sample = df[df['roast_type'] == tipe]['price_per_100g']\n",
        "#     stat, p = kstest(sample, 'norm', args=(sample.mean(), sample.std()))\n",
        "#     ks_results[tipe] = (stat, p)"
      ],
      "metadata": {
        "id": "BARxafLY1nSF"
      },
      "execution_count": 39,
      "outputs": []
    },
    {
      "cell_type": "code",
      "source": [
        "# groups = [df['price_per_100g'][df['roast_type'] == t] for t in df['roast_type'].unique()]\n",
        "# levene_stat, levene_p = levene(*groups)"
      ],
      "metadata": {
        "id": "6A8LY56V14T8"
      },
      "execution_count": 40,
      "outputs": []
    },
    {
      "cell_type": "code",
      "source": [
        "# plt.figure(figsize=(10, 6))\n",
        "# sns.stripplot(x='roast_type', y='price_per_100g', data=df, jitter=True, alpha=0.7)\n",
        "# plt.title('Scatter Plot: Price per 100g berdasarkan Tipe Roast')\n",
        "# plt.ylabel('Harga per 100g')\n",
        "# plt.xlabel('Tipe Roast')\n",
        "# plt.xticks(rotation=45)\n",
        "# plt.grid(True)\n",
        "# plt.tight_layout()\n",
        "# plt.show()\n",
        "\n",
        "# ks_results, (levene_stat, levene_p)"
      ],
      "metadata": {
        "id": "U2Tcctuk17BR"
      },
      "execution_count": 41,
      "outputs": []
    },
    {
      "cell_type": "code",
      "source": [
        "# stat, p = f_oneway(*grup)\n",
        "# print(f\"One Way ANOVA p = {p:.4f}\")\n",
        "# if p < 0.05:\n",
        "#     print(\"➡️ Ada perbedaan signifikan harga antar roast type!\")\n",
        "# else:\n",
        "#     print(\"➡️ Tidak ada perbedaan signifikan harga antar roast type.\")"
      ],
      "metadata": {
        "id": "ReizC6Wu2VRB"
      },
      "execution_count": 42,
      "outputs": []
    },
    {
      "cell_type": "code",
      "source": [
        "# df = df[['Roast Type', 'Price per 100g']].dropna()\n",
        "# df['Price per 100g'] = pd.to_numeric(df['Price per 100g'], errors='coerce')\n",
        "# df.dropna(subset=['Price per 100g'], inplace=True)"
      ],
      "metadata": {
        "id": "98wwiwehzed6"
      },
      "execution_count": 43,
      "outputs": []
    },
    {
      "cell_type": "code",
      "source": [
        "# plt.figure(figsize=(10, 6))\n",
        "# sns.boxplot(x='Roast Type', y='Price per 100g', data=df)\n",
        "# plt.title('Harga per 100g berdasarkan Tipe Roast')\n",
        "# plt.xticks(rotation=45)\n",
        "# plt.show()"
      ],
      "metadata": {
        "id": "JmNY22qJzqBo"
      },
      "execution_count": 44,
      "outputs": []
    },
    {
      "cell_type": "code",
      "source": [
        "# plt.figure(figsize=(10, 6))\n",
        "# sns.stripplot(x=kolom_grup, y=kolom_nilai, data=df, jitter=True, alpha=0.7)\n",
        "# plt.title(f'Scatter Plot: {kolom_nilai.title()} vs {kolom_grup.title()}', fontsize=16)\n",
        "# plt.ylabel('Harga per 100g')\n",
        "# plt.xlabel('Tipe Roast')\n",
        "# plt.show()"
      ],
      "metadata": {
        "id": "IoPK3KLnvnqp"
      },
      "execution_count": 45,
      "outputs": []
    },
    {
      "cell_type": "code",
      "source": [
        "# plt.figure(figsize=(10, 6))\n",
        "# sns.boxplot(x=kolom_grup, y=kolom_nilai, data=df)\n",
        "# plt.title(f'Boxplot: Perbandingan Harga per 100g untuk Setiap Tipe Roast', fontsize=16)\n",
        "# plt.ylabel('Harga per 100g')\n",
        "# plt.xlabel('Tipe Roast')\n",
        "# plt.show()"
      ],
      "metadata": {
        "id": "QeiFeJSvvwil"
      },
      "execution_count": 46,
      "outputs": []
    },
    {
      "cell_type": "code",
      "source": [
        "# # Membuat list yang berisi data harga untuk setiap tipe roast\n",
        "# kelompok_data = [df[kolom_nilai][df[kolom_grup] == grup] for grup in df[kolom_grup].unique()]\n",
        "\n",
        "# # Menjalankan Levene's Test\n",
        "# stat_levene, p_levene = levene(*kelompok_data)\n",
        "\n",
        "# print(f\"P-value Uji Levene: {p_levene:.4f}\")\n",
        "\n",
        "# if p_levene < 0.05:\n",
        "#     print(\"⚠️ Asumsi homogenitas varian TIDAK TERPENUHI (p < 0.05).\")\n",
        "# else:\n",
        "#     print(\"✅ Asumsi homogenitas varian TERPENUHI (p >= 0.05).\")"
      ],
      "metadata": {
        "id": "EXFeT14evzSS"
      },
      "execution_count": 47,
      "outputs": []
    },
    {
      "cell_type": "code",
      "source": [
        "# # Membuat dan fitting model ANOVA\n",
        "# model = ols(f'{kolom_nilai} ~ C({kolom_grup})', data=df).fit()\n",
        "# anova_table = sm.stats.anova_lm(model, typ=2)\n",
        "\n",
        "# print(\"\\n--- Hasil Analisis Varian (ANOVA) ---\")\n",
        "# print(anova_table)"
      ],
      "metadata": {
        "id": "XpZCTJqbv1bT"
      },
      "execution_count": 48,
      "outputs": []
    },
    {
      "cell_type": "code",
      "source": [
        "# p_value_anova = anova_table['PR(>F)'][0]\n",
        "\n",
        "# if p_value_anova < 0.05:\n",
        "#     print(\"\\n--- Hasil ANOVA Signifikan, Lanjut ke Uji Post-Hoc Tukey HSD ---\")\n",
        "#     tukey_hsd = pairwise_tukeyhsd(endog=df[kolom_nilai], groups=df[kolom_grup], alpha=0.05)\n",
        "#     print(tukey_hsd)\n",
        "# else:\n",
        "#     print(\"\\n--- Hasil ANOVA Tidak Signifikan, Uji Post-Hoc Tidak Diperlukan ---\")"
      ],
      "metadata": {
        "id": "VUD0mYRtv4aJ"
      },
      "execution_count": 49,
      "outputs": []
    },
    {
      "cell_type": "code",
      "source": [
        "# # Mendapatkan residuals dari model\n",
        "# residuals = model.resid\n",
        "\n",
        "# # Menjalankan Uji Kolmogorov-Smirnov\n",
        "# ks_stat, p_ks = kstest(residuals, 'norm', args=(residuals.mean(), residuals.std()))\n",
        "\n",
        "# print(f\"\\n--- Uji Normalitas Residuals (Kolmogorov-Smirnov) ---\")\n",
        "# print(f\"P-value: {p_ks:.4f}\")\n",
        "\n",
        "# if p_ks < 0.05:\n",
        "#     print(\"⚠️ Asumsi normalitas TIDAK TERPENUHI (p < 0.05).\")\n",
        "# else:\n",
        "#     print(\"✅ Asumsi normalitas TERPENUHI (p >= 0.05).\")\n",
        "\n",
        "# # Visualisasi dengan Q-Q Plot untuk pengecekan tambahan\n",
        "# sm.qqplot(residuals, line='s')\n",
        "# plt.title('Q-Q Plot of Residuals')\n",
        "# plt.show()"
      ],
      "metadata": {
        "id": "E-ThaYi2v7WY"
      },
      "execution_count": 50,
      "outputs": []
    }
  ]
}